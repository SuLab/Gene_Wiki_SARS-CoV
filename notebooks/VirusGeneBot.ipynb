{
  "nbformat": 4,
  "nbformat_minor": 0,
  "metadata": {
    "kernelspec": {
      "display_name": "Python 3",
      "language": "python",
      "name": "python3"
    },
    "language_info": {
      "codemirror_mode": {
        "name": "ipython",
        "version": 3
      },
      "file_extension": ".py",
      "mimetype": "text/x-python",
      "name": "python",
      "nbconvert_exporter": "python",
      "pygments_lexer": "ipython3",
      "version": "3.7.6"
    },
    "colab": {
      "name": "VirusGeneBot.ipynb",
      "provenance": [],
      "collapsed_sections": [],
      "toc_visible": true
    }
  },
  "cells": [
    {
      "cell_type": "markdown",
      "metadata": {
        "id": "aT6Ad9cL_pKv",
        "colab_type": "text"
      },
      "source": [
        "**Authors:**\n",
        "  - Jasper Koehorst (ORCID:0000-0001-8172-8981 )\n",
        "  - Andra Waagmeester (ORCID:0000-0001-9773-4008)\n",
        "  - Egon Willighagen (ORCID:0000-0001-7542-0286)\n",
        "\n",
        "This bot uses of the [WikidataIntegrator](https://github.com/SuLab/WikidataIntegrator).\n",
        "\n",
        "Taxa ran: \n",
        "[2697049](https://www.ncbi.nlm.nih.gov/taxonomy/2697049), \n",
        "[1415852](https://www.ncbi.nlm.nih.gov/taxonomy/1415852), \n",
        "[227859](https://www.ncbi.nlm.nih.gov/taxonomy/227859), \n",
        "[349342](https://www.ncbi.nlm.nih.gov/taxonomy/349342), \n",
        "[305407](https://www.ncbi.nlm.nih.gov/taxonomy/305407), \n",
        "[1335626](https://www.ncbi.nlm.nih.gov/taxonomy/1335626)\n",
        "\n",
        "This bot is a first attempt to automatically maintain genomics data on Wikidata from authoritittive resources on the \n",
        "SARS-CoV-2 virus. SARS-CoV-2 belongs to the broad family of viruses known as coronaviruses. This bot addresses the\n",
        "seven known coronavirus to infect people.\n",
        "\n",
        "The bot roughly works as follows:\n",
        "1. Check if the taxonid of the virus is already covered in Wikidata\n",
        "2. Get list of genes from https://mygene.info/\n",
        "3. Create or check items on Wikidats for each annotated gene\n",
        "\n",
        "The bot aligns with the following schema: https://www.wikidata.org/wiki/EntitySchema:E165"
      ]
    },
    {
      "cell_type": "markdown",
      "metadata": {
        "id": "iL39cHiO_pK0",
        "colab_type": "text"
      },
      "source": [
        "### Dependency installation\n",
        "To add data to wikidata the wikidata integrator application is used.\n",
        "\n",
        "Fetching and parsing protein information is achieved through the BioPython package"
      ]
    },
    {
      "cell_type": "code",
      "metadata": {
        "id": "8X3UWYyg_pK3",
        "colab_type": "code",
        "outputId": "8acc54fc-dbd2-4617-98f7-78cac705a9b3",
        "colab": {
          "base_uri": "https://localhost:8080/",
          "height": 1000
        }
      },
      "source": [
        "!pip install wikidataintegrator\n",
        "!pip install biopython"
      ],
      "execution_count": 0,
      "outputs": [
        {
          "output_type": "stream",
          "text": [
            "Collecting wikidataintegrator\n",
            "\u001b[?25l  Downloading https://files.pythonhosted.org/packages/96/df/dfa97fb5a5e4e4d1ed9811df674e2c3ec52be13b3fa6795e1de9b40b1ef5/wikidataintegrator-0.6.0.tar.gz (67kB)\n",
            "\r\u001b[K     |████▉                           | 10kB 19.8MB/s eta 0:00:01\r\u001b[K     |█████████▊                      | 20kB 3.2MB/s eta 0:00:01\r\u001b[K     |██████████████▋                 | 30kB 4.0MB/s eta 0:00:01\r\u001b[K     |███████████████████▌            | 40kB 3.0MB/s eta 0:00:01\r\u001b[K     |████████████████████████▍       | 51kB 3.4MB/s eta 0:00:01\r\u001b[K     |█████████████████████████████▎  | 61kB 4.1MB/s eta 0:00:01\r\u001b[K     |████████████████████████████████| 71kB 2.9MB/s \n",
            "\u001b[?25hRequirement already satisfied: requests in /usr/local/lib/python3.6/dist-packages (from wikidataintegrator) (2.21.0)\n",
            "Requirement already satisfied: python-dateutil in /usr/local/lib/python3.6/dist-packages (from wikidataintegrator) (2.8.1)\n",
            "Collecting simplejson\n",
            "\u001b[?25l  Downloading https://files.pythonhosted.org/packages/98/87/a7b98aa9256c8843f92878966dc3d8d914c14aad97e2c5ce4798d5743e07/simplejson-3.17.0.tar.gz (83kB)\n",
            "\u001b[K     |████████████████████████████████| 92kB 6.8MB/s \n",
            "\u001b[?25hCollecting mwoauth\n",
            "  Downloading https://files.pythonhosted.org/packages/12/4a/d45ef95a5d7b1516fa5a416a25ec1fdd3c921af3f49929733e9b6c963e66/mwoauth-0.3.7-py3-none-any.whl\n",
            "Requirement already satisfied: oauthlib in /usr/local/lib/python3.6/dist-packages (from wikidataintegrator) (3.1.0)\n",
            "Collecting sparql_slurper\n",
            "  Downloading https://files.pythonhosted.org/packages/9c/04/62c84a15bf23acaae7983b4e2ad4a54e7e4960b52b6f8aba612a77e15535/sparql_slurper-0.3.4-py3-none-any.whl\n",
            "Collecting ShExJSG\n",
            "  Downloading https://files.pythonhosted.org/packages/9f/f1/91c395b99a613d360b07c94475b52b6ca6779ab53332e2a6df5bb79f8c08/ShExJSG-0.6.8-py2.py3-none-any.whl\n",
            "Collecting jsonasobj\n",
            "  Downloading https://files.pythonhosted.org/packages/0a/a0/f9951b7ce18718282a00b302f469d6638b25e650783ea416c946355daa3f/jsonasobj-1.2.1.tar.gz\n",
            "Collecting pyshex\n",
            "\u001b[?25l  Downloading https://files.pythonhosted.org/packages/6b/73/83c1dac6edb9c0093f20022c03d0310670a031d0edf1df22b2a41a30b667/PyShEx-0.7.14-py3-none-any.whl (50kB)\n",
            "\u001b[K     |████████████████████████████████| 51kB 7.1MB/s \n",
            "\u001b[?25hRequirement already satisfied: chardet<3.1.0,>=3.0.2 in /usr/local/lib/python3.6/dist-packages (from requests->wikidataintegrator) (3.0.4)\n",
            "Requirement already satisfied: idna<2.9,>=2.5 in /usr/local/lib/python3.6/dist-packages (from requests->wikidataintegrator) (2.8)\n",
            "Requirement already satisfied: urllib3<1.25,>=1.21.1 in /usr/local/lib/python3.6/dist-packages (from requests->wikidataintegrator) (1.24.3)\n",
            "Requirement already satisfied: certifi>=2017.4.17 in /usr/local/lib/python3.6/dist-packages (from requests->wikidataintegrator) (2019.11.28)\n",
            "Requirement already satisfied: six>=1.5 in /usr/local/lib/python3.6/dist-packages (from python-dateutil->wikidataintegrator) (1.12.0)\n",
            "Collecting PyJWT<2.0.0,>=1.0.1\n",
            "  Downloading https://files.pythonhosted.org/packages/87/8b/6a9f14b5f781697e51259d81657e6048fd31a113229cf346880bb7545565/PyJWT-1.7.1-py2.py3-none-any.whl\n",
            "Requirement already satisfied: requests-oauthlib in /usr/local/lib/python3.6/dist-packages (from mwoauth->wikidataintegrator) (1.3.0)\n",
            "Collecting sparqlwrapper>=1.8.2\n",
            "  Downloading https://files.pythonhosted.org/packages/00/9b/443fbe06996c080ee9c1f01b04e2f683b2b07e149905f33a2397ee3b80a2/SPARQLWrapper-1.8.5-py3-none-any.whl\n",
            "Collecting pbr\n",
            "\u001b[?25l  Downloading https://files.pythonhosted.org/packages/7a/db/a968fd7beb9fe06901c1841cb25c9ccb666ca1b9a19b114d1bbedf1126fc/pbr-5.4.4-py2.py3-none-any.whl (110kB)\n",
            "\u001b[K     |████████████████████████████████| 112kB 31.7MB/s \n",
            "\u001b[?25hCollecting rdflib>=4.2.2\n",
            "\u001b[?25l  Downloading https://files.pythonhosted.org/packages/3c/fe/630bacb652680f6d481b9febbb3e2c3869194a1a5fc3401a4a41195a2f8f/rdflib-4.2.2-py3-none-any.whl (344kB)\n",
            "\u001b[K     |████████████████████████████████| 348kB 24.7MB/s \n",
            "\u001b[?25hCollecting pyshexc>=0.5.4\n",
            "\u001b[?25l  Downloading https://files.pythonhosted.org/packages/15/77/4d948f70b5a36d133603e779be03cce1ecb4be156e9b174d52e67d9f8212/PyShExC-0.7.0-py2.py3-none-any.whl (52kB)\n",
            "\u001b[K     |████████████████████████████████| 61kB 8.0MB/s \n",
            "\u001b[?25hCollecting pyjsg>=0.9.0\n",
            "\u001b[?25l  Downloading https://files.pythonhosted.org/packages/6d/95/3e831de9f7108ad962a070b35d6e7b9017e15ea3fdcbe265d59a5a8e1140/PyJSG-0.9.1-py3-none-any.whl (65kB)\n",
            "\u001b[K     |████████████████████████████████| 71kB 8.9MB/s \n",
            "\u001b[?25hCollecting rdflib-jsonld>=0.4.0\n",
            "\u001b[?25l  Downloading https://files.pythonhosted.org/packages/ba/48/edaad22fc9de34500699f0c7fc9124385dd425fd18857244f126a6f7df66/rdflib-jsonld-0.4.0.tar.gz (53kB)\n",
            "\u001b[K     |████████████████████████████████| 61kB 8.7MB/s \n",
            "\u001b[?25hCollecting cfgraph>=0.2.1\n",
            "  Downloading https://files.pythonhosted.org/packages/cb/51/3e7e021920cfe2f7d18b672642e13f7dc4f53545d530b52ee6533b6681ca/CFGraph-0.2.1.tar.gz\n",
            "Collecting isodate\n",
            "\u001b[?25l  Downloading https://files.pythonhosted.org/packages/9b/9f/b36f7774ff5ea8e428fdcfc4bb332c39ee5b9362ddd3d40d9516a55221b2/isodate-0.6.0-py2.py3-none-any.whl (45kB)\n",
            "\u001b[K     |████████████████████████████████| 51kB 6.2MB/s \n",
            "\u001b[?25hRequirement already satisfied: pyparsing in /usr/local/lib/python3.6/dist-packages (from rdflib>=4.2.2->sparql_slurper->wikidataintegrator) (2.4.6)\n",
            "Collecting antlr4-python3-runtime>=4.7\n",
            "\u001b[?25l  Downloading https://files.pythonhosted.org/packages/56/02/789a0bddf9c9b31b14c3e79ec22b9656185a803dc31c15f006f9855ece0d/antlr4-python3-runtime-4.8.tar.gz (112kB)\n",
            "\u001b[K     |████████████████████████████████| 112kB 26.6MB/s \n",
            "\u001b[?25hBuilding wheels for collected packages: wikidataintegrator, simplejson, jsonasobj, rdflib-jsonld, cfgraph, antlr4-python3-runtime\n",
            "  Building wheel for wikidataintegrator (setup.py) ... \u001b[?25l\u001b[?25hdone\n",
            "  Created wheel for wikidataintegrator: filename=wikidataintegrator-0.6.0-cp36-none-any.whl size=73229 sha256=707b95dc2760c617170211bd827ea6d421eb7f8d225ccc5d8a25c7f733c05dca\n",
            "  Stored in directory: /root/.cache/pip/wheels/40/94/f8/8815e5f953d2b19db82c278303fc8cf7395116b5cb5cc30872\n",
            "  Building wheel for simplejson (setup.py) ... \u001b[?25l\u001b[?25hdone\n",
            "  Created wheel for simplejson: filename=simplejson-3.17.0-cp36-cp36m-linux_x86_64.whl size=114201 sha256=4e48589beaee528dbec81462ac1d7647d3da565857d5a8d157f6ca4b4ed67b8b\n",
            "  Stored in directory: /root/.cache/pip/wheels/86/c0/83/dcd0339abb2640544bb8e0938aab2d069cef55e5647ce6e097\n",
            "  Building wheel for jsonasobj (setup.py) ... \u001b[?25l\u001b[?25hdone\n",
            "  Created wheel for jsonasobj: filename=jsonasobj-1.2.1-cp36-none-any.whl size=4191 sha256=9c76ed5948337f4a82749dadb53eaa3c1f0f676def4b9370f190b73ea3fdac6f\n",
            "  Stored in directory: /root/.cache/pip/wheels/29/69/72/bf06a92c81a59a26fb2016434e976bf6d0db1d1b8a261ee1ab\n",
            "  Building wheel for rdflib-jsonld (setup.py) ... \u001b[?25l\u001b[?25hdone\n",
            "  Created wheel for rdflib-jsonld: filename=rdflib_jsonld-0.4.0-cp36-none-any.whl size=14075 sha256=fe9fddc6b6b88c127cd9ab87d31981252fd7fad05d3a3a29b9837b53491d01a4\n",
            "  Stored in directory: /root/.cache/pip/wheels/9f/31/d2/ac7f9fea93b5440274e5c67336e35f1c0f9d38e49c71e35b6d\n",
            "  Building wheel for cfgraph (setup.py) ... \u001b[?25l\u001b[?25hdone\n",
            "  Created wheel for cfgraph: filename=CFGraph-0.2.1-cp36-none-any.whl size=2235 sha256=ec04e29691bfde697b19ed8112832f321d5a06bc98255fd4f18f871c0bba8303\n",
            "  Stored in directory: /root/.cache/pip/wheels/6e/54/3d/f36a478718655bdd7189b64425d96b83c1b5ec7c501d9927c3\n",
            "  Building wheel for antlr4-python3-runtime (setup.py) ... \u001b[?25l\u001b[?25hdone\n",
            "  Created wheel for antlr4-python3-runtime: filename=antlr4_python3_runtime-4.8-cp36-none-any.whl size=141231 sha256=b98774124c3829cf58621bfeed0fae9ca34d5cfdac55b5944c939ece7c05ae90\n",
            "  Stored in directory: /root/.cache/pip/wheels/e3/e2/fa/b78480b448b8579ddf393bebd3f47ee23aa84c89b6a78285c8\n",
            "Successfully built wikidataintegrator simplejson jsonasobj rdflib-jsonld cfgraph antlr4-python3-runtime\n",
            "Installing collected packages: simplejson, PyJWT, mwoauth, isodate, rdflib, sparqlwrapper, pbr, sparql-slurper, rdflib-jsonld, jsonasobj, antlr4-python3-runtime, pyjsg, pyshexc, ShExJSG, cfgraph, pyshex, wikidataintegrator\n",
            "Successfully installed PyJWT-1.7.1 ShExJSG-0.6.8 antlr4-python3-runtime-4.8 cfgraph-0.2.1 isodate-0.6.0 jsonasobj-1.2.1 mwoauth-0.3.7 pbr-5.4.4 pyjsg-0.9.1 pyshex-0.7.14 pyshexc-0.7.0 rdflib-4.2.2 rdflib-jsonld-0.4.0 simplejson-3.17.0 sparql-slurper-0.3.4 sparqlwrapper-1.8.5 wikidataintegrator-0.6.0\n",
            "Collecting biopython\n",
            "\u001b[?25l  Downloading https://files.pythonhosted.org/packages/83/3d/e0c8a993dbea1136be90c31345aefc5babdd5046cd52f81c18fc3fdad865/biopython-1.76-cp36-cp36m-manylinux1_x86_64.whl (2.3MB)\n",
            "\u001b[K     |████████████████████████████████| 2.3MB 4.8MB/s \n",
            "\u001b[?25hRequirement already satisfied: numpy in /usr/local/lib/python3.6/dist-packages (from biopython) (1.18.2)\n",
            "Installing collected packages: biopython\n",
            "Successfully installed biopython-1.76\n"
          ],
          "name": "stdout"
        }
      ]
    },
    {
      "cell_type": "markdown",
      "metadata": {
        "id": "LguBBew8_pK_",
        "colab_type": "text"
      },
      "source": [
        "### Wikidata variables\n",
        "A username and password are required to authenticate with WikiData.org"
      ]
    },
    {
      "cell_type": "code",
      "metadata": {
        "id": "0XX0i-l6_pLA",
        "colab_type": "code",
        "cellView": "code",
        "colab": {}
      },
      "source": [
        "import os\n",
        "\n",
        "os.environ['WDUSER'] = \"\"\n",
        "os.environ['WDPASS'] = \"\""
      ],
      "execution_count": 0,
      "outputs": []
    },
    {
      "cell_type": "markdown",
      "metadata": {
        "id": "nKN10HScAfXS",
        "colab_type": "text"
      },
      "source": [
        "### NCBI Taxon identifier\n",
        "The genes and proteins that are to be registered in WikiData are selected based on the taxon identifier provided."
      ]
    },
    {
      "cell_type": "code",
      "metadata": {
        "id": "x1n7qIAz_pLG",
        "colab_type": "code",
        "colab": {}
      },
      "source": [
        "taxid = \"1415851\" # \"NCBI Taxon number here. For example: 694009\""
      ],
      "execution_count": 0,
      "outputs": []
    },
    {
      "cell_type": "markdown",
      "metadata": {
        "id": "tNMGtgmc_pLQ",
        "colab_type": "text"
      },
      "source": [
        "## Dependencies and functions"
      ]
    },
    {
      "cell_type": "code",
      "metadata": {
        "id": "VFbnA2Vn_pLV",
        "colab_type": "code",
        "colab": {}
      },
      "source": [
        "import copy\n",
        "import json\n",
        "import os\n",
        "import pprint\n",
        "from datetime import datetime\n",
        "import requests\n",
        "from wikidataintegrator import wdi_core, wdi_login\n",
        "from rdflib import Graph, URIRef\n",
        "from Bio import Entrez,SeqIO\n",
        "import ftplib\n",
        "import urllib.request\n",
        "import gzip\n",
        "import re\n",
        "\n",
        "retrieved = datetime.now()"
      ],
      "execution_count": 0,
      "outputs": []
    },
    {
      "cell_type": "code",
      "metadata": {
        "id": "MQZnLXFE_pLb",
        "colab_type": "code",
        "colab": {}
      },
      "source": [
        "# Wikidata provenance reference for NCBI Taxonomy\n",
        "def createNCBITaxReference(ncbiTaxId, retrieved):\n",
        "    refStatedIn = wdi_core.WDItemID(value=\"Q13711410\", prop_nr=\"P248\", is_reference=True)\n",
        "    timeStringNow = retrieved.strftime(\"+%Y-%m-%dT00:00:00Z\")\n",
        "    refRetrieved = wdi_core.WDTime(timeStringNow, prop_nr=\"P813\", is_reference=True)\n",
        "    refNcbiTaxID = wdi_core.WDString(value=ncbiTaxId, prop_nr=\"P685\", is_reference=True)\n",
        "    ncbi_reference = [refStatedIn, refRetrieved, refNcbiTaxID]\n",
        "    return ncbi_reference\n",
        "\n",
        "# Wikidata provenance reference for NCBI Gene\n",
        "def createNCBIGeneReference(ncbiGeneId, retrieved):\n",
        "    refStatedIn = wdi_core.WDItemID(value=\"Q20641742\", prop_nr=\"P248\", is_reference=True)\n",
        "    timeStringNow = retrieved.strftime(\"+%Y-%m-%dT00:00:00Z\")\n",
        "    refRetrieved = wdi_core.WDTime(timeStringNow, prop_nr=\"P813\", is_reference=True)\n",
        "    refNcbiGeneID = wdi_core.WDString(value=ncbiGeneId, prop_nr=\"P351\", is_reference=True)\n",
        "\n",
        "    ncbi_reference = [refStatedIn, refRetrieved, refNcbiGeneID]\n",
        "    return ncbi_reference\n",
        "\n",
        "# Wikidata provenance reference for UniProt\n",
        "def createUniprotReference(uniprotId, retrieved):\n",
        "    refStatedIn = wdi_core.WDItemID(value=\"Q905695\", prop_nr=\"P248\", is_reference=True)\n",
        "    timeStringNow = retrieved.strftime(\"+%Y-%m-%dT00:00:00Z\")\n",
        "    refRetrieved = wdi_core.WDTime(timeStringNow, prop_nr=\"P813\", is_reference=True)\n",
        "    refUniprotID = wdi_core.WDString(value=uniprotId, prop_nr=\"P352\", is_reference=True)\n",
        "\n",
        "    reference = [refStatedIn, refRetrieved, refUniprotID]\n",
        "    return reference\n",
        "\n",
        "# Obtaining the Wikidata Gene identifier via the NCBI gene id\n",
        "def getGeneQid(ncbiId, ncbi_reference):\n",
        "    # Parent taxon\n",
        "    gene_statements = [\n",
        "    wdi_core.WDString(value=ncbiId, prop_nr=\"P351\", references=[copy.deepcopy(ncbi_reference)])]\n",
        "    return wdi_core.WDItemEngine(data=gene_statements)\n",
        "\n",
        "# Obtain the WikiData item \n",
        "def getTaxonItem(taxonQid):\n",
        "    return wdi_core.WDItemEngine(wd_item_id=taxonQid)\n",
        "    \n",
        "# Obtaining the item from the taxon id and creat the item\n",
        "def set_taxon(taxid):\n",
        "  ncbiTaxon = json.loads(requests.get(\"https://eutils.ncbi.nlm.nih.gov/entrez/eutils/esummary.fcgi?db=taxonomy&id={}&format=json\".format(taxid)).text)\n",
        "\n",
        "  taxonitemStatements = []\n",
        "  ## instance of\n",
        "  taxonitemStatements.append(wdi_core.WDItemID(value=\"Q16521\", prop_nr=\"P31\", references=[copy.deepcopy(ncbiTaxref)]))\n",
        "  ## NCBI tax id\n",
        "  taxonitemStatements.append(wdi_core.WDExternalID(value=taxid, prop_nr=\"P685\", references=[copy.deepcopy(ncbiTaxref)]))\n",
        "  ## scientificname\n",
        "  scientificName = ncbiTaxon[\"result\"][taxid]['scientificname']\n",
        "  taxonitemStatements.append(wdi_core.WDString(scientificName, prop_nr=\"P225\", references=[copy.deepcopy(ncbiTaxref)]))\n",
        "  item = wdi_core.WDItemEngine(data=taxonitemStatements)\n",
        "  if item.get_label() == \"\":\n",
        "      item.set_label(label=scientificName, lang=\"en\")\n",
        "  if item.get_label() != scientificName:\n",
        "      item.set_aliases(aliases=[scientificName])\n",
        "  if item.get_description(lang=\"en\") == \"\":\n",
        "      item.set_description(description=\"strain of virus\", lang=\"en\")\n",
        "  \n",
        "  pprint.pprint(item.wd_item_id) ## get json for test purposes\n",
        "  return item"
      ],
      "execution_count": 0,
      "outputs": []
    },
    {
      "cell_type": "markdown",
      "metadata": {
        "id": "LlAUeA4W_pLq",
        "colab_type": "text"
      },
      "source": [
        "## Start of the code\n",
        "### Authentication\n",
        "Username and password can be set at the beginning of this document for the authentication with WikiData."
      ]
    },
    {
      "cell_type": "code",
      "metadata": {
        "id": "8yd3wrih_pLs",
        "colab_type": "code",
        "outputId": "60db7f7c-b510-45bc-9245-df04b2bd142f",
        "colab": {
          "base_uri": "https://localhost:8080/",
          "height": 69
        }
      },
      "source": [
        "## Login to Wikidata\n",
        "print(\"Logging in...\")\n",
        "if \"WDUSER\" in os.environ and \"WDPASS\" in os.environ:\n",
        "  WDUSER = os.environ['WDUSER']\n",
        "  WDPASS = os.environ['WDPASS']\n",
        "else:\n",
        "  raise ValueError(\"WDUSER and WDPASS must be specified in local.py or as environment variables\")\n",
        "\n",
        "login = wdi_login.WDLogin(WDUSER, WDPASS)\n",
        "\n",
        "global ncbi_reference\n",
        "ncbi_reference = createNCBIGeneReference(\"\",retrieved)\n",
        "global ncbiTaxref\n",
        "ncbiTaxref = createNCBITaxReference(taxid, retrieved)"
      ],
      "execution_count": 0,
      "outputs": [
        {
          "output_type": "stream",
          "text": [
            "Logging in...\n",
            "https://www.wikidata.org/w/api.php\n",
            "Successfully logged in as Andrawaag\n"
          ],
          "name": "stdout"
        }
      ]
    },
    {
      "cell_type": "markdown",
      "metadata": {
        "id": "pAq38kbJNirp",
        "colab_type": "text"
      },
      "source": [
        "## Creating the taxon instance"
      ]
    },
    {
      "cell_type": "code",
      "metadata": {
        "id": "gvsgR9IVNiI0",
        "colab_type": "code",
        "outputId": "1b5a2caa-c068-4102-fd18-a167a777d0f8",
        "colab": {
          "base_uri": "https://localhost:8080/",
          "height": 34
        }
      },
      "source": [
        "wd_item_taxon = set_taxon(taxid)\n",
        "# Obtain scientific name\n"
      ],
      "execution_count": 0,
      "outputs": [
        {
          "output_type": "stream",
          "text": [
            "'Q85939995'\n"
          ],
          "name": "stdout"
        }
      ]
    },
    {
      "cell_type": "code",
      "metadata": {
        "id": "K_zCE9g-OmVy",
        "colab_type": "code",
        "colab": {}
      },
      "source": [
        "for statement in wd_item_taxon.statements:\n",
        "  if statement.get_prop_nr() == \"P225\":\n",
        "    scientificName = statement.value\n"
      ],
      "execution_count": 0,
      "outputs": []
    },
    {
      "cell_type": "markdown",
      "metadata": {
        "id": "78QyjrBo_pLw",
        "colab_type": "text"
      },
      "source": [
        "### Acquiring genes\n",
        "Based on the taxon id provided this section will acquire the genes from mygene.info"
      ]
    },
    {
      "cell_type": "code",
      "metadata": {
        "id": "S3eafwGr_pLy",
        "colab_type": "code",
        "colab": {}
      },
      "source": [
        "# Obtain gene list from mygene.info\n",
        "genelist = json.loads(requests.get(\"https://mygene.info/v3/query?q=*&species=\" + taxid).text)\n",
        "# pprint.pprint(genelist)\n",
        "for hit in genelist[\"hits\"]:\n",
        "    ncbi_reference = createNCBIGeneReference(hit[\"entrezgene\"], retrieved)\n",
        "    geneinfo = json.loads(requests.get(\"http://mygene.info/v3/gene/\" + hit[\"entrezgene\"]).text)\n",
        "    # print(geneinfo)\n",
        "    reference = []\n",
        "    statements = []\n",
        "\n",
        "    # ncbi identifer\n",
        "    statements.append(wdi_core.WDString(geneinfo[\"entrezgene\"], prop_nr=\"P351\", references=[copy.deepcopy(ncbi_reference)]))\n",
        "\n",
        "    item = wdi_core.WDItemEngine(data=statements)\n",
        "    # print(item.wd_item_id)\n",
        "    item.set_label(geneinfo[\"name\"], lang=\"en\")\n",
        "    item.set_description(scientificName + \" gene\", lang=\"en\")\n",
        "\n",
        "    # pprint.pprint(item.get_wd_json_representation()) ## get json for test purposes\n",
        "    print(item.write(login))  # write the wikidata item and return the QID"
      ],
      "execution_count": 0,
      "outputs": []
    },
    {
      "cell_type": "markdown",
      "metadata": {
        "id": "SkAaYtZz_pL0",
        "colab_type": "text"
      },
      "source": [
        "### Acquiring protein information\n",
        "Functions needed to acquire the protein information"
      ]
    },
    {
      "cell_type": "code",
      "metadata": {
        "id": "6Wuyj7-P_pL2",
        "colab_type": "code",
        "colab": {}
      },
      "source": [
        "def create_or_update_uniprot_protein_item(geneid, uniprotID):\n",
        "    retrieved = datetime.now()\n",
        "    ncbi_reference = createNCBIGeneReference(hit[\"entrezgene\"], retrieved)\n",
        "    uniprot_reference = createUniprotReference(uniprotID, retrieved)\n",
        "    query = \"\"\"\n",
        "        PREFIX uniprotkb: <http://purl.uniprot.org/uniprot/>\n",
        "        SELECT * WHERE {\n",
        "        SERVICE <https://sparql.uniprot.org/sparql> {\n",
        "            VALUES ?database {<http://purl.uniprot.org/database/PDB> <http://purl.uniprot.org/database/RefSeq>}\n",
        "            uniprotkb:\"\"\" + uniprotID + \"\"\" rdfs:label ?label ;\n",
        "            rdfs:seeAlso ?id .\n",
        "            ?id <http://purl.uniprot.org/core/database> ?database .\n",
        "        }}\"\"\"\n",
        "    print(query)\n",
        "\n",
        "    results = wdi_core.WDItemEngine.execute_sparql_query(query, endpoint=\"https://sparql.uniprot.org/sparql\")\n",
        "    refseq = []\n",
        "    pdb = []\n",
        "    for result in results[\"results\"][\"bindings\"]:\n",
        "        protein_label = result[\"label\"][\"value\"]\n",
        "        if result[\"database\"][\"value\"] == \"http://purl.uniprot.org/database/RefSeq\":\n",
        "            if result[\"id\"][\"value\"].replace(\"http://purl.uniprot.org/refseq/\", \"\") not in refseq:\n",
        "                refseq.append(result[\"id\"][\"value\"].replace(\"http://purl.uniprot.org/refseq/\", \"\"))\n",
        "        if result[\"database\"][\"value\"] == \"http://purl.uniprot.org/database/PDB\":\n",
        "            if result[\"id\"][\"value\"].replace(\"http://rdf.wwpdb.org/pdb/\", \"\") not in pdb:\n",
        "                pdb.append(result[\"id\"][\"value\"].replace(\"http://rdf.wwpdb.org/pdb/\", \"\"))\n",
        "\n",
        "    statements = []\n",
        "\n",
        "    # Instance of protein\n",
        "    statements.append(wdi_core.WDItemID(value=\"Q8054\", prop_nr=\"P31\", references=[copy.deepcopy(uniprot_reference)]))\n",
        "\n",
        "    # encoded by\n",
        "    geneitem = getGeneQid(geneid, ncbi_reference)\n",
        "    geneqid = geneitem.wd_item_id\n",
        "    statements.append(wdi_core.WDItemID(value=geneqid, prop_nr=\"P702\", references=[copy.deepcopy(ncbi_reference)]))\n",
        "\n",
        "    # found in taxon\n",
        "    geneJson = geneitem.get_wd_json_representation()\n",
        "    taxonQID = geneJson['claims'][\"P703\"][0][\"mainsnak\"][\"datavalue\"][\"value\"][\"id\"]\n",
        "    statements.append(wdi_core.WDItemID(taxonQID, prop_nr=\"P703\", references=[copy.deepcopy(ncbi_reference)]))\n",
        "\n",
        "    # exactMatch\n",
        "    statements.append(wdi_core.WDUrl(\"http://purl.uniprot.org/uniprot/\"+uniprotID, prop_nr=\"P2888\",  references=[copy.deepcopy(uniprot_reference)]))\n",
        "    \n",
        "    ## Identifier statements\n",
        "    # uniprot\n",
        "    statements.append(wdi_core.WDString(uniprotID, prop_nr=\"P352\", references=[copy.deepcopy(uniprot_reference)]))\n",
        "    # refseq\n",
        "    for id in refseq:\n",
        "        statements.append(wdi_core.WDString(id, prop_nr=\"P637\", references=[copy.deepcopy(uniprot_reference)]))\n",
        "\n",
        "    # pdb\n",
        "    for id in pdb:\n",
        "        statements.append(wdi_core.WDString(id, prop_nr=\"P638\", references=[copy.deepcopy(uniprot_reference)]))\n",
        "    taxonname = getTaxonItem(geneJson['claims'][\"P703\"][0][\"mainsnak\"][\"datavalue\"][\"value\"][\"id\"]).get_label(lang=\"en\")\n",
        "    protein_item = wdi_core.WDItemEngine(data=statements)\n",
        "    if protein_item.get_label(lang=\"en\") == \"\":\n",
        "        protein_item.set_label(protein_label, lang=\"en\")\n",
        "    if protein_item.get_description(lang=\"en\") == \"\":\n",
        "        protein_item.set_description(\"protein in \"+taxonname, lang=\"en\")\n",
        "    if protein_item.get_description(lang=\"de\") == \"\":\n",
        "        protein_item.set_description(\"Eiweiß in \"+taxonname, lang=\"de\")\n",
        "    if protein_item.get_description(lang=\"nl\") == \"\":\n",
        "        protein_item.set_description(\"eiwit in \"+taxonname, lang=\"nl\")\n",
        "    if protein_item.get_description(lang=\"es\") == \"\":\n",
        "        protein_item.set_description(\"proteína en \"+taxonname, lang=\"es\")\n",
        "    if protein_item.get_description(lang=\"it\") == \"\":\n",
        "        protein_item.set_description(\"Proteina in \" + taxonname, lang=\"it\")\n",
        "\n",
        "    print(protein_item.get_wd_json_representation())\n",
        "    protein_qid = protein_item.write(login)\n",
        "    print(protein_qid)\n",
        "    \n",
        "    ## add the newly create protein item to the gene item\n",
        "    encodes = [wdi_core.WDItemID(protein_qid, prop_nr=\"P688\", references=[copy.deepcopy(ncbi_reference)])]\n",
        "    geneitem = wdi_core.WDItemEngine(wd_item_id=geneqid, data=encodes)\n",
        "    return geneitem.write(login)\n",
        "\n",
        "def create_or_update_refseq_protein_item(geneid, refseqID):\n",
        "    statements = []\n",
        "    retrieved = datetime.now()\n",
        "    ncbi_reference = createNCBIGeneReference(hit[\"entrezgene\"], retrieved)\n",
        "    pdb = []\n",
        "    # Instance of protein\n",
        "    statements.append(wdi_core.WDItemID(value=\"Q8054\", prop_nr=\"P31\", references=[copy.deepcopy(ncbi_reference)]))\n",
        "\n",
        "    # encoded by\n",
        "    geneitem = getGeneQid(geneid, ncbi_reference)\n",
        "    geneqid = geneitem.wd_item_id\n",
        "    statements.append(wdi_core.WDItemID(value=geneqid, prop_nr=\"P702\", references=[copy.deepcopy(ncbi_reference)]))\n",
        "\n",
        "    # found in taxon\n",
        "    geneJson = geneitem.get_wd_json_representation()\n",
        "    taxonQID = geneJson['claims'][\"P703\"][0][\"mainsnak\"][\"datavalue\"][\"value\"][\"id\"]\n",
        "    statements.append(wdi_core.WDItemID(taxonQID, prop_nr=\"P703\", references=[copy.deepcopy(ncbi_reference)]))\n",
        "\n",
        "    # refseq\n",
        "    statements.append(wdi_core.WDString(refseqID, prop_nr=\"P637\", references=[copy.deepcopy(ncbi_reference)]))\n",
        "\n",
        "    handle = Entrez.efetch(id=geneinfo[\"refseq\"][\"protein\"], db='protein', rettype='gb', retmode='text')\n",
        "    record = SeqIO.read(handle, 'genbank')\n",
        "    for feature in record.features:\n",
        "        if feature.type.lower() == \"protein\":\n",
        "            print(feature.qualifiers['product'])\n",
        "            protein_label = feature.qualifiers['product'][0]\n",
        "    taxonname = getTaxonItem(geneJson['claims'][\"P703\"][0][\"mainsnak\"][\"datavalue\"][\"value\"][\"id\"]).get_label(lang=\"en\")\n",
        "\n",
        "    protein_item = wdi_core.WDItemEngine(data=statements)\n",
        "    if protein_item.get_label(lang=\"en\") == \"\":\n",
        "        protein_item.set_label(protein_label, lang=\"en\")\n",
        "    if protein_item.get_description(lang=\"en\") == \"\":\n",
        "        protein_item.set_description(\"protein in \" + taxonname, lang=\"en\")\n",
        "    if protein_item.get_description(lang=\"de\") == \"\":\n",
        "        protein_item.set_description(\"Eiweiß in \" + taxonname, lang=\"de\")\n",
        "    if protein_item.get_description(lang=\"nl\") == \"\":\n",
        "        protein_item.set_description(\"eiwit in \" + taxonname, lang=\"nl\")\n",
        "    if protein_item.get_description(lang=\"es\") == \"\":\n",
        "        protein_item.set_description(\"proteína en \" + taxonname, lang=\"es\")\n",
        "    if protein_item.get_description(lang=\"it\") == \"\":\n",
        "        protein_item.set_description(\"Proteina in \" + taxonname, lang=\"it\")\n",
        "\n",
        "    pprint.pprint(protein_item.get_wd_json_representation())\n",
        "    protein_qid = protein_item.write(login)\n",
        "    print(protein_qid)\n",
        "    \n",
        "    ## add the newly create protein item to the gene item\n",
        "    encodes = [wdi_core.WDItemID(protein_qid, prop_nr=\"P688\", references=[copy.deepcopy(ncbi_reference)])]\n",
        "    geneitem = wdi_core.WDItemEngine(wd_item_id=geneqid, data=encodes)\n",
        "    return geneitem.write(login)"
      ],
      "execution_count": 0,
      "outputs": []
    },
    {
      "cell_type": "markdown",
      "metadata": {
        "id": "8mJ7SpdR_pL4",
        "colab_type": "text"
      },
      "source": [
        "## Protein run script"
      ]
    },
    {
      "cell_type": "code",
      "metadata": {
        "id": "_HlFQ6fL_pL5",
        "colab_type": "code",
        "colab": {}
      },
      "source": [
        "# Obtain gene list from taxonid from mygene.info\n",
        "genelist = json.loads(requests.get(\"https://mygene.info/v3/query?q=*&species=\"+taxid).text)\n",
        "\n",
        "for hit in genelist[\"hits\"]:\n",
        "    print(hit[\"entrezgene\"])\n",
        "    geneinfo = json.loads(requests.get(\"http://mygene.info/v3/gene/\" + hit[\"entrezgene\"]).text)\n",
        "    # uniprot identifer\n",
        "    if \"uniprot\" in geneinfo.keys():\n",
        "        if \"Swiss-Prot\" in geneinfo[\"uniprot\"]:\n",
        "            if isinstance(geneinfo[\"uniprot\"][\"Swiss-Prot\"], list):\n",
        "                for uniprot in geneinfo[\"uniprot\"][\"Swiss-Prot\"]:\n",
        "                    print(uniprot +\": \"+create_or_update_uniprot_protein_item(hit[\"entrezgene\"], uniprot))\n",
        "            else:\n",
        "                print(geneinfo[\"uniprot\"][\"Swiss-Prot\"] +\": \"+create_or_update_uniprot_protein_item(hit[\"entrezgene\"], geneinfo[\"uniprot\"][\"Swiss-Prot\"]))\n",
        "    elif \"refseq\" in geneinfo.keys():\n",
        "        if \"protein\" in geneinfo[\"refseq\"].keys():\n",
        "            if isinstance(geneinfo[\"refseq\"][\"protein\"], list):\n",
        "                for refseqID in geneinfo[\"refseq\"][\"protein\"]:\n",
        "                    try:\n",
        "                       print(create_or_update_refseq_protein_item(hit[\"entrezgene\"], refseqID))\n",
        "                    except:\n",
        "                        pass\n",
        "            else:\n",
        "                try:\n",
        "                    print(create_or_update_refseq_protein_item(hit[\"entrezgene\"], geneinfo[\"refseq\"][\"protein\"]))\n",
        "                except:\n",
        "                    pass\n",
        "\n"
      ],
      "execution_count": 0,
      "outputs": []
    }
  ]
}